{
 "cells": [
  {
   "cell_type": "code",
   "execution_count": null,
   "metadata": {},
   "outputs": [],
   "source": []
  },
  {
   "cell_type": "code",
   "execution_count": 9,
   "metadata": {},
   "outputs": [],
   "source": [
    "import pandas\n",
    "import csv\n",
    "\n",
    "## SETTINGS\n",
    "\n",
    "##INPUT:\n",
    "df1 = pandas.read_csv('C:/Users/.../ORIGINAL_DATASET_skindex29.csv',encoding='ISO-8859-1')\n",
    "##OUTPUT:\n",
    "output_filename = 'C:/Users/.../clean_sk29_survey.csv'\n"
   ]
  },
  {
   "cell_type": "code",
   "execution_count": 10,
   "metadata": {},
   "outputs": [
    {
     "name": "stdout",
     "output_type": "stream",
     "text": [
      "..loaded\n",
      "..DONE!\n",
      "..rows removed\n"
     ]
    }
   ],
   "source": [
    "\n",
    "\n",
    "questions = 31\n",
    "patients = 98\n",
    "offset = 0\n",
    "needed_rows = (questions * patients) + offset\n",
    "\n",
    "skindex_data1 = df1.iloc[:needed_rows, [0,1,3,4,5,6,7]]\n",
    "\n",
    "skindex_data1.columns.values[0] = \"patientID\"\n",
    "skindex_data1.columns.values[1] = \"questionID\"\n",
    "skindex_data1.columns.values[2] = \"never\"\n",
    "skindex_data1.columns.values[3] = \"rarely\"\n",
    "skindex_data1.columns.values[4] = \"sometimes\"\n",
    "skindex_data1.columns.values[5] = \"often\"\n",
    "skindex_data1.columns.values[6] = \"always\"\n",
    "\n",
    "\n",
    "print(\"..loaded\")\n",
    "# filling the data\n",
    "for j in range(0,patients): \n",
    "    for i in range (1,questions):\n",
    "        skindex_data1.iloc[[(j*questions)+i],[0]] = j+1\n",
    "        \n",
    "j = j + 1\n",
    "print(\"..DONE!\")\n",
    "\n",
    "# removing nulls\n",
    "\n",
    "for i in range(1,patients): \n",
    "        a = (questions*i)-2\n",
    "        b= a + 1\n",
    "        skindex_data1.drop([a,b], axis = 0, inplace = True)\n",
    "        \n",
    "\n",
    "#dropping the remaining two rows:\n",
    "skindex_data1.drop([3036,3037], axis = 0, inplace = True)\n",
    "\n",
    "\n",
    "print(\"..rows removed\")\n",
    "\n",
    "skindex_data1.to_csv(output_filename, encoding='ISO-8859-1')\n",
    "\n",
    "#print('..saved as ', output_filename)"
   ]
  }
 ],
 "metadata": {
  "kernelspec": {
   "display_name": "Python 3",
   "language": "python",
   "name": "python3"
  },
  "language_info": {
   "codemirror_mode": {
    "name": "ipython",
    "version": 3
   },
   "file_extension": ".py",
   "mimetype": "text/x-python",
   "name": "python",
   "nbconvert_exporter": "python",
   "pygments_lexer": "ipython3",
   "version": "3.10.11"
  },
  "orig_nbformat": 4
 },
 "nbformat": 4,
 "nbformat_minor": 2
}
